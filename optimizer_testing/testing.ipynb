{
 "cells": [
  {
   "cell_type": "markdown",
   "metadata": {},
   "source": [
    "All dependencies should be imported here"
   ]
  },
  {
   "cell_type": "code",
   "execution_count": 2,
   "metadata": {},
   "outputs": [],
   "source": [
    "import time\n",
    "import pandas as pd\n",
    "import numpy as np\n",
    "import re as re\n",
    "from pulp import *\n",
    "import os\n",
    "import copy\n",
    "import icecream\n",
    "from contest_lineup_defs import DEFINITIONS, retrieve_definitions\n",
    "\n",
    "\n",
    "\n",
    "\n"
   ]
  },
  {
   "cell_type": "code",
   "execution_count": 164,
   "metadata": {},
   "outputs": [
    {
     "name": "stdout",
     "output_type": "stream",
     "text": [
      "4971231248\n",
      "4971038224\n",
      "5104918928\n",
      "5104918928\n"
     ]
    },
    {
     "data": {
      "text/plain": [
       "35"
      ]
     },
     "execution_count": 164,
     "metadata": {},
     "output_type": "execute_result"
    }
   ],
   "source": [
    "from random import getrandbits\n",
    "import copy\n",
    "from copy import deepcopy\n",
    "\n",
    "getrandbits(2)\n",
    "\n",
    "\n",
    "class Person():\n",
    "    def __init__(self, name:str, age:int):\n",
    "        self.name=name\n",
    "        self.age=age\n",
    "\n",
    "matt=Person('Matt', 36)\n",
    "dave=Person('Dave', 33)\n",
    "\n",
    "class Coding_Group():\n",
    "    def __init__(self, students:list):\n",
    "        self.students=students\n",
    "\n",
    "my_group=Coding_Group([matt, dave])\n",
    "other_group=Coding_Group([matt, dave])\n",
    "\n",
    "print(id(my_group))\n",
    "print(id(other_group))\n",
    "print(id(my_group.students[0]))\n",
    "print(id(other_group.students[0]))\n",
    "\n",
    "\n",
    "class Person2(Person):\n",
    "    pass\n",
    "\n",
    "\n",
    "me=Person2('Matt', 35)\n",
    "me.age"
   ]
  },
  {
   "cell_type": "code",
   "execution_count": 165,
   "metadata": {},
   "outputs": [
    {
     "data": {
      "text/plain": [
       "environ{'COMMAND_MODE': 'unix2003',\n",
       "        'HOME': '/Users/matthewmoore',\n",
       "        'HOMEBREW_CELLAR': '/opt/homebrew/Cellar',\n",
       "        'HOMEBREW_PREFIX': '/opt/homebrew',\n",
       "        'HOMEBREW_REPOSITORY': '/opt/homebrew',\n",
       "        'INFOPATH': '/opt/homebrew/share/info:',\n",
       "        'LOGNAME': 'matthewmoore',\n",
       "        'MANPATH': '/opt/homebrew/share/man::',\n",
       "        'MallocNanoZone': '0',\n",
       "        'OLDPWD': '/',\n",
       "        'ORIGINAL_XDG_CURRENT_DESKTOP': 'undefined',\n",
       "        'PATH': '/Users/matthewmoore/.local/share/virtualenvs/optimizer_v1-vT5i3nNP/bin:/Users/matthewmoore/anaconda3/bin:/opt/homebrew/bin:/opt/homebrew/sbin:/Library/Frameworks/Python.framework/Versions/3.11/bin:/usr/local/bin:/System/Cryptexes/App/usr/bin:/usr/bin:/bin:/usr/sbin:/sbin:/Applications/VMware Fusion.app/Contents/Public:/Library/Apple/usr/bin:/var/run/com.apple.security.cryptexd/codex.system/bootstrap/usr/local/bin:/var/run/com.apple.security.cryptexd/codex.system/bootstrap/usr/bin:/var/run/com.apple.security.cryptexd/codex.system/bootstrap/usr/appleinternal/bin',\n",
       "        'PWD': '/',\n",
       "        'SHELL': '/bin/zsh',\n",
       "        'SHLVL': '1',\n",
       "        'SSH_AUTH_SOCK': '/private/tmp/com.apple.launchd.MSMTF3CqTu/Listeners',\n",
       "        'TMPDIR': '/var/folders/1q/3wk2pn_x6rdgn29l0fs4j47r0000gn/T/',\n",
       "        'USER': 'matthewmoore',\n",
       "        'VSCODE_AMD_ENTRYPOINT': 'vs/workbench/api/node/extensionHostProcess',\n",
       "        'VSCODE_CODE_CACHE_PATH': '/Users/matthewmoore/Library/Application Support/Code/CachedData/6c3e3dba23e8fadc360aed75ce363ba185c49794',\n",
       "        'VSCODE_CRASH_REPORTER_PROCESS_TYPE': 'extensionHost',\n",
       "        'VSCODE_CWD': '/',\n",
       "        'VSCODE_HANDLES_UNCAUGHT_ERRORS': 'true',\n",
       "        'VSCODE_IPC_HOOK': '/Users/matthewmoore/Library/Application Support/Code/1.81-main.sock',\n",
       "        'VSCODE_NLS_CONFIG': '{\"locale\":\"en-us\",\"osLocale\":\"en-us\",\"availableLanguages\":{},\"_languagePackSupport\":true}',\n",
       "        'VSCODE_PID': '53977',\n",
       "        'XPC_FLAGS': '0x0',\n",
       "        'XPC_SERVICE_NAME': '0',\n",
       "        '_': '/Users/matthewmoore/.local/share/virtualenvs/optimizer_v1-vT5i3nNP/bin/python',\n",
       "        '__CFBundleIdentifier': 'com.microsoft.VSCode',\n",
       "        '__CF_USER_TEXT_ENCODING': '0x1F5:0:0',\n",
       "        'ELECTRON_RUN_AS_NODE': '1',\n",
       "        'VSCODE_L10N_BUNDLE_LOCATION': '',\n",
       "        'PYTHONUNBUFFERED': '1',\n",
       "        'PYTHONIOENCODING': 'utf-8',\n",
       "        'VIRTUAL_ENV': '/Users/matthewmoore/.local/share/virtualenvs/optimizer_v1-vT5i3nNP',\n",
       "        'PS1': '(optimizer_v1) ',\n",
       "        'VIRTUAL_ENV_PROMPT': 'optimizer_v1',\n",
       "        'LC_CTYPE': 'UTF-8',\n",
       "        'PYDEVD_IPYTHON_COMPATIBLE_DEBUGGING': '1',\n",
       "        'PYDEVD_USE_FRAME_EVAL': 'NO',\n",
       "        'TERM': 'xterm-color',\n",
       "        'CLICOLOR': '1',\n",
       "        'FORCE_COLOR': '1',\n",
       "        'CLICOLOR_FORCE': '1',\n",
       "        'PAGER': 'cat',\n",
       "        'GIT_PAGER': 'cat',\n",
       "        'MPLBACKEND': 'module://matplotlib_inline.backend_inline'}"
      ]
     },
     "execution_count": 165,
     "metadata": {},
     "output_type": "execute_result"
    }
   ],
   "source": [
    "import os\n",
    "os.environ"
   ]
  },
  {
   "cell_type": "code",
   "execution_count": 4,
   "metadata": {},
   "outputs": [
    {
     "data": {
      "text/plain": [
       "['QB', 'RB', 'RB', 'WR', 'WR', 'WR', 'TE', 'FLEX', 'DST']"
      ]
     },
     "execution_count": 4,
     "metadata": {},
     "output_type": "execute_result"
    }
   ],
   "source": [
    "DEFINITIONS['DRAFTKINGS']['NFL']['CLASSIC']['LINEUP_RULE']"
   ]
  },
  {
   "cell_type": "code",
   "execution_count": 25,
   "metadata": {},
   "outputs": [
    {
     "name": "stdout",
     "output_type": "stream",
     "text": [
      "['__class__', '__delattr__', '__dict__', '__dir__', '__doc__', '__eq__', '__format__', '__ge__', '__getattribute__', '__getstate__', '__gt__', '__hash__', '__init__', '__init_subclass__', '__le__', '__lt__', '__module__', '__ne__', '__new__', '__reduce__', '__reduce_ex__', '__repr__', '__setattr__', '__sizeof__', '__str__', '__subclasshook__', '__weakref__', 'address', 'name']\n",
      "Matt\n",
      "<class 'object'>\n",
      "['__class__', '__delattr__', '__dir__', '__doc__', '__eq__', '__format__', '__ge__', '__getattribute__', '__getstate__', '__gt__', '__hash__', '__init__', '__init_subclass__', '__le__', '__lt__', '__ne__', '__new__', '__reduce__', '__reduce_ex__', '__repr__', '__setattr__', '__sizeof__', '__str__', '__subclasshook__']\n",
      "{'name': 'Matt', 'address': '8 Margulis Ct'}\n",
      "['__class__', '__delattr__', '__dict__', '__dir__', '__doc__', '__eq__', '__format__', '__ge__', '__getattribute__', '__getstate__', '__gt__', '__hash__', '__init__', '__init_subclass__', '__le__', '__lt__', '__module__', '__ne__', '__new__', '__reduce__', '__reduce_ex__', '__repr__', '__setattr__', '__sizeof__', '__str__', '__subclasshook__', '__weakref__', 'address']\n"
     ]
    },
    {
     "data": {
      "text/plain": [
       "{'address': '8 Margulis Ct'}"
      ]
     },
     "execution_count": 25,
     "metadata": {},
     "output_type": "execute_result"
    }
   ],
   "source": [
    "class Person():\n",
    "    def __init__(self, name, address):\n",
    "        self.name = name\n",
    "        self.address = address\n",
    "\n",
    "matt = Person(name='Matt', address='8 Margulis Ct')\n",
    "\n",
    "print(dir(matt))\n",
    "print(matt.name)\n",
    "hi = object()\n",
    "print(type(hi))\n",
    "\n",
    "print(dir(hi))\n",
    "print(matt.__dict__)\n",
    "matt.__delattr__('name')\n",
    "print(dir(matt))\n",
    "matt.__getstate__()"
   ]
  },
  {
   "cell_type": "code",
   "execution_count": null,
   "metadata": {},
   "outputs": [],
   "source": []
  },
  {
   "cell_type": "code",
   "execution_count": null,
   "metadata": {},
   "outputs": [],
   "source": [
    "\n",
    "\n",
    "    \n",
    "\n",
    "\n",
    "\n",
    "\n",
    "\n",
    "\n",
    "\n",
    "\n",
    "\n",
    "\n",
    "\n",
    "\n",
    "\n"
   ]
  },
  {
   "cell_type": "code",
   "execution_count": null,
   "metadata": {},
   "outputs": [],
   "source": []
  },
  {
   "cell_type": "code",
   "execution_count": 27,
   "metadata": {},
   "outputs": [],
   "source": [
    "\n",
    "def read_slate_file(directory_path, file_name):\n",
    "    # Check if the CSV file exists\n",
    "    csv_file_path = os.path.join(directory_path, file_name + '.csv')\n",
    "    if os.path.exists(csv_file_path):\n",
    "        return pd.read_csv(csv_file_path)\n",
    "\n",
    "    # Check if the XLSX file exists\n",
    "    xlsx_file_path = os.path.join(directory_path, file_name + '.xlsx')\n",
    "    if os.path.exists(xlsx_file_path):\n",
    "        return pd.read_excel(xlsx_file_path)\n",
    "    \n",
    "    # Check if the XLS file exists\n",
    "    xls_file_path = os.path.join(directory_path, file_name + '.xls')\n",
    "    if os.path.exists(xls_file_path):\n",
    "        return pd.read_excel(xls_file_path)\n",
    "    \n",
    "    # Check if the XLSM file exists\n",
    "    xlsm_file_path = os.path.join(directory_path, file_name + '.xlsm')\n",
    "    if os.path.exists(xlsm_file_path):\n",
    "        return pd.read_excel(xlsm_file_path)\n",
    "\n",
    "    # If neither CSV nor XLSX file exists, return None or raise an error\n",
    "    return None\n",
    "\n"
   ]
  },
  {
   "cell_type": "code",
   "execution_count": 8,
   "metadata": {},
   "outputs": [],
   "source": [
    "\n",
    "\n"
   ]
  },
  {
   "cell_type": "code",
   "execution_count": 223,
   "metadata": {},
   "outputs": [
    {
     "data": {
      "text/plain": [
       "array([ 1.13742029e+01,  0.00000000e+00,  2.01912102e+01,  4.11839724e+01,\n",
       "        2.77372889e+01,  1.00286564e+01,  3.70748455e+01,  3.99075696e+00,\n",
       "        1.84802274e+01,  1.84565071e+01,  1.49569859e+01,  3.88389571e+01,\n",
       "        1.22520561e+01,  3.06971829e+01,  8.82538279e+00,  6.98241856e+00,\n",
       "        2.49794788e+01,  1.30354345e+01,  6.70183885e+00,  2.18989346e+01,\n",
       "        5.26244251e+00,  2.51172689e+01,  2.40082409e+01,  1.67042072e+01,\n",
       "        1.21492744e+01,  7.90601995e+00,  6.93004001e+00,  1.54551573e+01,\n",
       "        2.36046669e+01,  1.63098503e+01,  1.51739225e+01,  0.00000000e+00,\n",
       "        2.08126581e+01,  2.04906592e+01,  1.75324535e+01, -2.51891365e+00,\n",
       "        2.40694628e+01,  8.77113872e+00,  1.58088381e+01,  2.96594907e+01,\n",
       "        2.70524331e+00,  1.44100463e+01,  3.24437271e+01, -4.95176232e+00,\n",
       "        1.37989577e+01,  1.46152055e+00,  2.04063587e+01,  1.98006516e+01,\n",
       "        2.11039430e+01,  3.08784865e+01,  3.41291301e+01,  1.41666133e+01,\n",
       "        2.10546192e+01,  7.45713851e+00,  5.44546549e+00,  1.35966991e+01,\n",
       "        3.36400195e+00,  9.56127526e+00,  9.20588870e+00,  9.86431102e+00,\n",
       "        4.70580183e+00, -1.74902512e+00,  1.50553406e+01,  1.60723805e+01,\n",
       "        3.50860305e+00,  1.25990058e+00,  1.03803120e+01,  2.74515776e+00,\n",
       "        3.74960133e+00,  1.82263249e+00,  2.08672210e+01,  1.41153999e+01,\n",
       "        2.62537984e+01,  0.00000000e+00,  1.03794798e+01,  2.96576921e+01,\n",
       "        9.55312743e+00,  1.96066672e+00,  1.59314525e+01,  4.29454672e+00,\n",
       "        0.00000000e+00,  1.28452837e+01,  8.52796488e+00,  1.17527127e+01,\n",
       "        1.79268612e+01,  2.88751389e+00,  2.61236035e+01,  5.30080877e+00,\n",
       "        2.18330132e+01,  1.57740053e+01,  1.06102615e+01,  1.00965941e+01,\n",
       "        2.97129454e+01,  0.00000000e+00,  1.08996981e+01,  8.25135872e+00,\n",
       "       -2.76189375e+00,  0.00000000e+00,  6.39394727e-01,  1.74204685e+01,\n",
       "        1.39893914e+01,  2.88504984e+01,  4.53054062e+00,  1.83270552e+01,\n",
       "        1.72265995e+01,  1.03613122e+01,  0.00000000e+00,  7.37009317e+00,\n",
       "        1.13576922e+01,  2.01902242e+01,  0.00000000e+00,  9.61264767e+00,\n",
       "        1.08848089e+00,  2.00406020e+01,  7.31578919e+00,  1.96427047e+01,\n",
       "        0.00000000e+00,  0.00000000e+00,  2.35266997e+01,  0.00000000e+00,\n",
       "        7.26387253e+00,  0.00000000e+00,  0.00000000e+00,  0.00000000e+00,\n",
       "        0.00000000e+00,  0.00000000e+00,  3.62398874e+00,  1.19153271e+01,\n",
       "       -1.50058417e-01,  7.25441550e+00,  7.16353725e+00,  0.00000000e+00,\n",
       "        0.00000000e+00,  1.15762005e+01,  1.77427006e+01,  6.13938009e+00,\n",
       "        0.00000000e+00,  1.05089449e+01,  1.34964907e+01,  2.13009492e+01,\n",
       "       -1.31302723e+01,  0.00000000e+00,  5.98363623e+00,  1.33314221e+00,\n",
       "        0.00000000e+00,  8.65508062e+00,  0.00000000e+00,  2.21321840e+00,\n",
       "        0.00000000e+00,  0.00000000e+00,  0.00000000e+00,  0.00000000e+00,\n",
       "        2.58662974e+01,  3.74110842e+00,  1.10104431e+01,  0.00000000e+00,\n",
       "        0.00000000e+00,  0.00000000e+00,  1.76437663e-01,  8.01772476e-01,\n",
       "        0.00000000e+00, -1.14354228e+00,  4.19967713e+00, -2.24745659e+00,\n",
       "        2.01621749e+01,  0.00000000e+00,  1.01005621e+01, -3.06000229e+00,\n",
       "        7.15045276e-01,  8.97228227e+00,  7.05631421e+00,  3.36539198e+00,\n",
       "        1.65296415e+01,  6.26367211e-01,  1.45545847e+01,  4.39641630e+00,\n",
       "        0.00000000e+00,  0.00000000e+00,  0.00000000e+00,  0.00000000e+00,\n",
       "        0.00000000e+00,  3.83283062e-01, -1.32876440e+00,  0.00000000e+00,\n",
       "        0.00000000e+00,  0.00000000e+00,  0.00000000e+00,  0.00000000e+00,\n",
       "       -5.37195145e-01,  3.61581803e-01,  2.48787221e-01,  0.00000000e+00,\n",
       "        0.00000000e+00, -4.35521306e-01,  0.00000000e+00,  0.00000000e+00,\n",
       "        8.34399033e-01,  0.00000000e+00,  0.00000000e+00,  0.00000000e+00,\n",
       "        0.00000000e+00,  0.00000000e+00, -9.05340566e-01,  0.00000000e+00,\n",
       "        0.00000000e+00,  0.00000000e+00,  0.00000000e+00,  1.57419994e-01,\n",
       "        0.00000000e+00,  0.00000000e+00,  0.00000000e+00,  0.00000000e+00,\n",
       "        0.00000000e+00,  0.00000000e+00,  0.00000000e+00,  0.00000000e+00,\n",
       "       -3.45169336e-01,  0.00000000e+00,  0.00000000e+00,  0.00000000e+00,\n",
       "        1.91966191e+01,  0.00000000e+00,  0.00000000e+00,  0.00000000e+00,\n",
       "        0.00000000e+00,  0.00000000e+00, -4.14983438e-01,  0.00000000e+00,\n",
       "        0.00000000e+00,  0.00000000e+00,  0.00000000e+00,  6.04813896e-02,\n",
       "       -4.12716542e-01,  0.00000000e+00,  0.00000000e+00,  0.00000000e+00,\n",
       "        0.00000000e+00,  0.00000000e+00, -4.24524300e+00, -2.70687894e+00,\n",
       "        0.00000000e+00,  2.16048485e+00,  0.00000000e+00,  0.00000000e+00,\n",
       "        0.00000000e+00,  0.00000000e+00,  0.00000000e+00,  0.00000000e+00,\n",
       "        0.00000000e+00, -5.67074673e-01,  0.00000000e+00,  1.91204490e+01,\n",
       "        0.00000000e+00,  0.00000000e+00,  0.00000000e+00,  1.43142252e+00,\n",
       "       -7.07589391e-01,  0.00000000e+00,  0.00000000e+00,  0.00000000e+00,\n",
       "        0.00000000e+00,  4.30381540e-01,  0.00000000e+00,  0.00000000e+00,\n",
       "        0.00000000e+00,  3.88467902e+00,  9.46706472e+00,  0.00000000e+00,\n",
       "        0.00000000e+00,  7.64110853e-01,  0.00000000e+00,  1.01744872e+00,\n",
       "        0.00000000e+00,  4.40679096e-01,  0.00000000e+00,  0.00000000e+00,\n",
       "        8.15706356e+00,  1.52892015e+01, -5.17375215e-01,  4.39269066e-01,\n",
       "       -1.12790350e+01,  1.40385040e+01,  1.11099946e+01,  1.03775223e+01,\n",
       "        4.57919354e+00,  1.19510214e+01,  2.10597281e+00,  1.38162839e+01,\n",
       "        1.46753560e+01,  6.71241896e+00,  7.00076664e+00,  7.66241066e-01,\n",
       "        0.00000000e+00,  8.47710114e+00,  4.30256211e+00,  9.68440449e+00,\n",
       "        6.36552171e+00,  3.79200095e+00,  4.01626153e+00,  1.17306209e+01,\n",
       "        4.63196480e+00,  1.15125784e+01,  9.21710962e-01, -1.03563407e+00,\n",
       "        1.83004330e+01,  1.61448323e+01,  4.19482887e+00, -2.50935167e+00,\n",
       "        1.10102807e+01,  1.35997003e+01,  1.06294503e+00,  8.35114833e+00,\n",
       "        1.59859801e+01,  4.50592155e+00,  9.91280475e+00,  1.34411967e+01,\n",
       "       -6.29405197e-01, -1.47910820e+00,  1.70458340e+01,  8.95646561e+00,\n",
       "       -3.04827763e+00,  4.59002537e+00,  1.33592392e+01,  1.05165839e+01,\n",
       "        6.34842562e+00, -2.73961138e-02,  4.44495341e+00, -3.26974764e+00,\n",
       "        4.60121909e-01,  9.26789128e+00,  9.28472806e-01,  7.03415304e+00,\n",
       "       -1.28938859e+00,  0.00000000e+00,  0.00000000e+00,  0.00000000e+00,\n",
       "        0.00000000e+00,  0.00000000e+00,  4.01640657e+00,  7.38193271e-01,\n",
       "        1.95534408e+00,  1.06180797e+01,  0.00000000e+00,  0.00000000e+00,\n",
       "        5.41970816e+00,  1.39240833e+00,  0.00000000e+00,  0.00000000e+00,\n",
       "        0.00000000e+00,  0.00000000e+00,  0.00000000e+00,  1.29885918e+01,\n",
       "        9.14238107e-01,  0.00000000e+00,  0.00000000e+00, -6.14708333e+00,\n",
       "        0.00000000e+00,  7.61125233e-01,  0.00000000e+00,  0.00000000e+00,\n",
       "        0.00000000e+00, -5.78262364e-01,  0.00000000e+00,  0.00000000e+00,\n",
       "        0.00000000e+00,  7.43417074e-02,  0.00000000e+00,  0.00000000e+00,\n",
       "        0.00000000e+00,  0.00000000e+00,  5.26752981e+00, -1.60713911e+00,\n",
       "        0.00000000e+00,  0.00000000e+00,  0.00000000e+00,  0.00000000e+00,\n",
       "        0.00000000e+00,  0.00000000e+00,  8.88695616e+00,  0.00000000e+00,\n",
       "        1.17286931e-01,  0.00000000e+00,  0.00000000e+00,  0.00000000e+00,\n",
       "        0.00000000e+00,  0.00000000e+00,  2.29930193e+00,  4.16893771e-01,\n",
       "        0.00000000e+00,  0.00000000e+00,  0.00000000e+00,  0.00000000e+00,\n",
       "        6.94031372e+00, -2.60336514e+00,  0.00000000e+00,  0.00000000e+00,\n",
       "        0.00000000e+00, -2.05059772e-01,  3.65459658e-01,  0.00000000e+00,\n",
       "        0.00000000e+00,  0.00000000e+00,  0.00000000e+00,  0.00000000e+00,\n",
       "        0.00000000e+00,  0.00000000e+00, -3.64315871e-02,  5.07309924e+00,\n",
       "        0.00000000e+00,  0.00000000e+00,  0.00000000e+00,  1.87044089e+00,\n",
       "        8.08395420e-01,  0.00000000e+00,  0.00000000e+00,  0.00000000e+00,\n",
       "        1.77484793e+00,  0.00000000e+00,  0.00000000e+00,  0.00000000e+00,\n",
       "        0.00000000e+00,  4.07221967e+00,  1.99815486e-01,  0.00000000e+00,\n",
       "        0.00000000e+00,  0.00000000e+00,  0.00000000e+00,  0.00000000e+00,\n",
       "        5.36805002e+00,  0.00000000e+00,  0.00000000e+00,  0.00000000e+00,\n",
       "        2.94411211e+00,  0.00000000e+00,  0.00000000e+00,  0.00000000e+00,\n",
       "        7.29452600e-01,  1.94889541e-01,  0.00000000e+00,  0.00000000e+00,\n",
       "        0.00000000e+00,  0.00000000e+00,  0.00000000e+00,  0.00000000e+00,\n",
       "        4.03127623e+00,  1.55486748e+00,  0.00000000e+00,  0.00000000e+00,\n",
       "        0.00000000e+00, -5.64321887e+00,  0.00000000e+00, -3.58574583e+00,\n",
       "        3.46028761e-01,  0.00000000e+00,  0.00000000e+00,  0.00000000e+00,\n",
       "        0.00000000e+00,  0.00000000e+00,  3.84629428e-02,  0.00000000e+00,\n",
       "        7.47513035e+00,  3.72908117e-01,  0.00000000e+00,  0.00000000e+00,\n",
       "       -1.11676303e+00,  0.00000000e+00,  6.29299365e-01,  0.00000000e+00,\n",
       "        0.00000000e+00,  0.00000000e+00,  0.00000000e+00,  1.27747020e+01,\n",
       "       -6.32537756e-01, -6.21014506e+00,  1.23497570e+00,  8.32560010e+00,\n",
       "        9.69795580e+00,  2.09073463e+00,  6.43005332e+00,  9.10099081e+00,\n",
       "       -2.54135039e+00,  8.66865977e+00,  5.35334795e+00,  1.15276389e+00,\n",
       "        2.45186051e+00,  3.15428767e+00, -7.79894735e-01,  5.60612793e+00,\n",
       "        5.15928566e+00,  9.23989147e+00, -2.36728082e-01,  1.07602603e+01,\n",
       "        1.69621683e+00,  7.71365746e-01,  2.39951474e-02,  0.00000000e+00,\n",
       "        0.00000000e+00,  0.00000000e+00,  1.85295262e+00,  1.29630340e+00,\n",
       "        2.46769890e-02,  0.00000000e+00,  0.00000000e+00,  2.67263507e+00,\n",
       "        0.00000000e+00,  0.00000000e+00, -2.74204669e-01,  0.00000000e+00,\n",
       "        0.00000000e+00,  1.13734638e+00,  2.13190207e+00,  0.00000000e+00,\n",
       "        0.00000000e+00,  0.00000000e+00,  1.24377512e+00,  0.00000000e+00,\n",
       "        0.00000000e+00,  9.25026041e-01,  0.00000000e+00,  0.00000000e+00,\n",
       "        7.74198855e+00,  0.00000000e+00,  1.41821558e+00, -5.45027272e-01,\n",
       "        0.00000000e+00,  0.00000000e+00, -1.00896107e+01,  1.17286650e+00,\n",
       "        0.00000000e+00,  0.00000000e+00,  0.00000000e+00,  0.00000000e+00,\n",
       "        0.00000000e+00,  1.33013253e+00,  8.66331301e-03,  0.00000000e+00,\n",
       "        0.00000000e+00,  4.68767291e+00,  5.46213430e-01,  0.00000000e+00,\n",
       "        0.00000000e+00,  5.69942304e+00,  7.50000000e-02,  6.58957430e-02,\n",
       "        0.00000000e+00, -3.73442593e-01,  8.55399702e-01,  0.00000000e+00,\n",
       "        0.00000000e+00, -1.68392526e-02,  5.82350627e-01,  0.00000000e+00,\n",
       "        0.00000000e+00, -3.30743501e+00,  0.00000000e+00,  0.00000000e+00,\n",
       "        0.00000000e+00, -2.49119272e+00,  0.00000000e+00,  0.00000000e+00,\n",
       "        7.92221761e-01,  1.95403192e+00,  0.00000000e+00,  0.00000000e+00,\n",
       "        0.00000000e+00,  1.11065500e+00,  0.00000000e+00,  0.00000000e+00,\n",
       "        0.00000000e+00,  0.00000000e+00,  1.48191919e+00,  0.00000000e+00,\n",
       "        0.00000000e+00,  4.42245120e+00,  7.19007066e-03,  0.00000000e+00,\n",
       "        0.00000000e+00, -4.87648326e-01,  1.85979583e+00,  0.00000000e+00,\n",
       "        0.00000000e+00,  0.00000000e+00,  0.00000000e+00,  1.20156143e+01,\n",
       "        5.36890012e+00,  6.86722260e+00])"
      ]
     },
     "execution_count": 223,
     "metadata": {},
     "output_type": "execute_result"
    }
   ],
   "source": [
    "\n",
    "\n",
    "    \n",
    "\n",
    "my_payout_structure={1: 100, 2:0}\n",
    "\n",
    "\n",
    "\n",
    "    \n",
    "\n",
    "my_contest=Contest(slate=week2_main_slate, lineups=my_lineups, payout_structure=my_payout_structure)\n",
    "my_contest.simulate_slate()\n",
    "\n",
    "\n"
   ]
  },
  {
   "cell_type": "code",
   "execution_count": 213,
   "metadata": {},
   "outputs": [
    {
     "data": {
      "text/plain": [
       "[Ryan Tannehill (29526648),\n",
       " Bijan Robinson (29526707),\n",
       " Joe Mixon (29526719),\n",
       " Ja'Marr Chase (29526977),\n",
       " Amon-Ra St. Brown (29526979),\n",
       " Marvin Jones Jr. (29527097),\n",
       " Cade Otton (29527459),\n",
       " Jayden Reed (29527115),\n",
       " Cowboys  (29527676)]"
      ]
     },
     "execution_count": 213,
     "metadata": {},
     "output_type": "execute_result"
    }
   ],
   "source": [
    "\n",
    "\n",
    "            \n",
    "\n",
    "\n",
    "\n"
   ]
  },
  {
   "cell_type": "code",
   "execution_count": null,
   "metadata": {},
   "outputs": [],
   "source": []
  },
  {
   "cell_type": "code",
   "execution_count": null,
   "metadata": {},
   "outputs": [],
   "source": []
  }
 ],
 "metadata": {
  "kernelspec": {
   "display_name": "optimizer_v1-vT5i3nNP",
   "language": "python",
   "name": "python3"
  },
  "language_info": {
   "codemirror_mode": {
    "name": "ipython",
    "version": 3
   },
   "file_extension": ".py",
   "mimetype": "text/x-python",
   "name": "python",
   "nbconvert_exporter": "python",
   "pygments_lexer": "ipython3",
   "version": "3.11.5"
  },
  "orig_nbformat": 4
 },
 "nbformat": 4,
 "nbformat_minor": 2
}
